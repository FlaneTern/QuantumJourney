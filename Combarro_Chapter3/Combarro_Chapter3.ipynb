{
 "cells": [
  {
   "cell_type": "code",
   "execution_count": 31,
   "metadata": {},
   "outputs": [],
   "source": [
    "from qiskit.circuit import Parameter, QuantumCircuit\n",
    "from qiskit.primitives import StatevectorEstimator\n",
    "from qiskit.quantum_info import Pauli, SparsePauliOp\n",
    "from qiskit.circuit import library\n",
    " \n",
    "import matplotlib.pyplot as plt\n",
    "import numpy as np\n"
   ]
  },
  {
   "cell_type": "code",
   "execution_count": 32,
   "metadata": {},
   "outputs": [
    {
     "name": "stdout",
     "output_type": "stream",
     "text": [
      "[[ 2  0  0  0  0  0  0  0]\n",
      " [ 0  0  0  0  0  0  0  0]\n",
      " [ 0  0  0  0  0  0  0  0]\n",
      " [ 0  0  0 -2  0  0  0  0]\n",
      " [ 0  0  0  0 -2  0  0  0]\n",
      " [ 0  0  0  0  0  0  0  0]\n",
      " [ 0  0  0  0  0  0  0  0]\n",
      " [ 0  0  0  0  0  0  0  2]]\n",
      "[2.0, 0.0, 0.0, -2.0, -2.0, 0.0, 0.0, 2.0]\n"
     ]
    }
   ],
   "source": [
    "expectation_values = []\n",
    "\n",
    "zgate = np.array([\n",
    "    [1, 0],\n",
    "    [0, -1]\n",
    "])\n",
    "\n",
    "igate = np.array([\n",
    "    [1, 0],\n",
    "    [0, 1]\n",
    "])\n",
    "\n",
    "\n",
    "z0z1 = np.kron(np.kron(zgate, zgate), igate)\n",
    "z0z2 = np.kron(np.kron(zgate, igate), zgate)\n",
    "observable = z0z1 + z0z2\n",
    "print(observable)\n",
    "\n",
    "observables = [\n",
    "    [SparsePauliOp.from_operator(observable)]\n",
    "]\n",
    "\n",
    "labels = [\"000\", \"001\", \"010\", \"011\", \"100\", \"101\", \"110\", \"111\"]\n",
    "for i in labels:\n",
    "    circuit = QuantumCircuit(3)\n",
    "    circuit.initialize(i)\n",
    "\n",
    "    estimator = StatevectorEstimator()\n",
    "    \n",
    "    \n",
    "    pub = (circuit, observables)\n",
    "    job = estimator.run([pub])\n",
    "    \n",
    "    # Extract the result for the 0th pub (this example only has one pub).\n",
    "    result = job.result()[0]\n",
    "\n",
    "    for idx, pauli in enumerate(observables):\n",
    "        expectation_values += [result.data.evs[idx][0]]\n",
    "\n",
    "print(expectation_values)\n"
   ]
  },
  {
   "cell_type": "code",
   "execution_count": 33,
   "metadata": {},
   "outputs": [
    {
     "name": "stdout",
     "output_type": "stream",
     "text": [
      "-1 -1 -1\n",
      "1 -1 -1\n",
      "-1 1 -1\n",
      "1 1 -1\n",
      "-1 -1 1\n",
      "1 -1 1\n",
      "-1 1 1\n",
      "1 1 1\n",
      "[2, -2, 0, 0, 0, 0, -2, 2]\n"
     ]
    }
   ],
   "source": [
    "sums = []\n",
    "\n",
    "for i in range(8):\n",
    "    z0 = 1 if i & 1 != 0 else -1\n",
    "    z1 = 1 if i & 2 != 0 else -1\n",
    "    z2 = 1 if i & 4 != 0 else -1\n",
    "\n",
    "    print(z0, z1, z2)\n",
    "\n",
    "    sums += [z0 * z1 + z0 * z2]\n",
    "\n",
    "print(sums)\n"
   ]
  }
 ],
 "metadata": {
  "kernelspec": {
   "display_name": "quantum_venv",
   "language": "python",
   "name": "python3"
  },
  "language_info": {
   "codemirror_mode": {
    "name": "ipython",
    "version": 3
   },
   "file_extension": ".py",
   "mimetype": "text/x-python",
   "name": "python",
   "nbconvert_exporter": "python",
   "pygments_lexer": "ipython3",
   "version": "3.11.2"
  }
 },
 "nbformat": 4,
 "nbformat_minor": 2
}
