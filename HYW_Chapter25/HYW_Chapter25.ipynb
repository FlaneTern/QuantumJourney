{
 "cells": [
  {
   "cell_type": "code",
   "execution_count": 3,
   "metadata": {},
   "outputs": [
    {
     "name": "stdout",
     "output_type": "stream",
     "text": [
      "U_QFT :\n",
      " [[ 0.57735027+0.j   0.57735027+0.j   0.57735027+0.j ]\n",
      " [ 0.57735027+0.j  -0.28867513-0.5j -0.28867513+0.5j]\n",
      " [ 0.57735027+0.j  -0.28867513+0.5j -0.28867513-0.5j]]\n",
      "U_IQFT :\n",
      " [[ 0.57735027+0.j   0.57735027+0.j   0.57735027+0.j ]\n",
      " [ 0.57735027+0.j  -0.28867513+0.5j -0.28867513-0.5j]\n",
      " [ 0.57735027+0.j  -0.28867513-0.5j -0.28867513+0.5j]]\n",
      "U_QFT * U_IQFT :\n",
      " [[ 1.00000000e+00+0.00000000e+00j -6.69194936e-17+9.61481343e-17j\n",
      "   1.27677817e-16+2.39219815e-16j]\n",
      " [-6.69194936e-17-9.61481343e-17j  1.00000000e+00+0.00000000e+00j\n",
      "   0.00000000e+00+9.49976134e-17j]\n",
      " [ 1.27677817e-16-2.39219815e-16j  0.00000000e+00-9.49976134e-17j\n",
      "   1.00000000e+00+0.00000000e+00j]]\n",
      "U_IQFT * U_QFT :\n",
      " [[ 1.00000000e+00+0.00000000e+00j -6.69194936e-17-9.61481343e-17j\n",
      "   1.27677817e-16-2.39219815e-16j]\n",
      " [-6.69194936e-17+9.61481343e-17j  1.00000000e+00+0.00000000e+00j\n",
      "   0.00000000e+00-9.49976134e-17j]\n",
      " [ 1.27677817e-16+2.39219815e-16j  0.00000000e+00+9.49976134e-17j\n",
      "   1.00000000e+00+0.00000000e+00j]]\n"
     ]
    }
   ],
   "source": [
    "import numpy as np\n",
    "\n",
    "def create_uqft(dimension):\n",
    "    shape = (dimension, dimension)\n",
    "\n",
    "    def uqft_entry_function(i, j):\n",
    "        return np.sqrt(1 / dimension) * np.exp(-(i * j) * 1j * 2 * np.pi / dimension)\n",
    "\n",
    "    return np.fromfunction(uqft_entry_function, shape)\n",
    "\n",
    "def create_uiqft(dimension):\n",
    "    shape = (dimension, dimension)\n",
    "\n",
    "    def uiqft_entry_function(i, j):\n",
    "        return np.sqrt(1 / dimension) * np.exp((i * j) * 1j * 2 * np.pi / dimension)\n",
    "\n",
    "    return np.fromfunction(uiqft_entry_function, shape)\n",
    "\n",
    "U_QFT = create_uqft(3)\n",
    "print('U_QFT :\\n', U_QFT)\n",
    "\n",
    "U_IQFT = create_uiqft(3)\n",
    "print('U_IQFT :\\n', U_IQFT)\n",
    "\n",
    "print('U_QFT * U_IQFT :\\n', np.matmul(U_QFT, U_IQFT))\n",
    "print('U_IQFT * U_QFT :\\n', np.matmul(U_IQFT, U_QFT))"
   ]
  },
  {
   "cell_type": "code",
   "execution_count": null,
   "metadata": {},
   "outputs": [],
   "source": []
  }
 ],
 "metadata": {
  "kernelspec": {
   "display_name": "quantum_venv",
   "language": "python",
   "name": "python3"
  },
  "language_info": {
   "codemirror_mode": {
    "name": "ipython",
    "version": 3
   },
   "file_extension": ".py",
   "mimetype": "text/x-python",
   "name": "python",
   "nbconvert_exporter": "python",
   "pygments_lexer": "ipython3",
   "version": "3.11.2"
  }
 },
 "nbformat": 4,
 "nbformat_minor": 2
}
