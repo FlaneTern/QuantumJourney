{
 "cells": [
  {
   "cell_type": "code",
   "execution_count": 2,
   "metadata": {},
   "outputs": [],
   "source": [
    "import numpy as np"
   ]
  },
  {
   "cell_type": "code",
   "execution_count": 3,
   "metadata": {},
   "outputs": [
    {
     "name": "stdout",
     "output_type": "stream",
     "text": [
      "[[0.        +0.j        ]\n",
      " [0.        +0.j        ]\n",
      " [0.70710678+0.j        ]\n",
      " [0.        +0.70710678j]]\n",
      "[[0.        +0.j        ]\n",
      " [0.70710678+0.j        ]\n",
      " [0.        +0.j        ]\n",
      " [0.        +0.70710678j]]\n"
     ]
    }
   ],
   "source": [
    "# 11.1\n",
    "\n",
    "g = np.array([[0],[1]])\n",
    "h = np.array([[1/np.sqrt(2)],[1j/np.sqrt(2)]])\n",
    "\n",
    "print(np.kron(g,h))\n",
    "print(np.kron(h,g))"
   ]
  },
  {
   "cell_type": "code",
   "execution_count": 4,
   "metadata": {},
   "outputs": [
    {
     "name": "stdout",
     "output_type": "stream",
     "text": [
      "[[0.        +0.j        ]\n",
      " [0.        +0.j        ]\n",
      " [0.        +0.j        ]\n",
      " [0.        +0.j        ]\n",
      " [0.        +0.j        ]\n",
      " [0.70710678+0.j        ]\n",
      " [0.        +0.j        ]\n",
      " [0.        +0.70710678j]]\n",
      "[[0.        +0.j        ]\n",
      " [0.        +0.j        ]\n",
      " [0.        +0.j        ]\n",
      " [0.        +0.j        ]\n",
      " [0.        +0.j        ]\n",
      " [0.70710678+0.j        ]\n",
      " [0.        +0.j        ]\n",
      " [0.        +0.70710678j]]\n"
     ]
    }
   ],
   "source": [
    "# 11.2\n",
    "\n",
    "a = np.array([[0],[1]])\n",
    "b = np.array([[1/np.sqrt(2)],[1j/np.sqrt(2)]])\n",
    "\n",
    "print(np.kron(np.kron(a,b),a))\n",
    "print(np.kron(a,np.kron(b,a)))"
   ]
  },
  {
   "cell_type": "code",
   "execution_count": 5,
   "metadata": {},
   "outputs": [
    {
     "name": "stdout",
     "output_type": "stream",
     "text": [
      "[[0.70710678+0.j        ]\n",
      " [0.        +0.70710678j]\n",
      " [0.70710678+0.j        ]\n",
      " [0.        +0.70710678j]]\n",
      "[[0.70710678+0.j        ]\n",
      " [0.        +0.70710678j]\n",
      " [0.70710678+0.j        ]\n",
      " [0.        +0.70710678j]]\n",
      "------------------------------------------\n",
      "[[0.70710678+0.j        ]\n",
      " [0.70710678+0.j        ]\n",
      " [0.        +0.70710678j]\n",
      " [0.        +0.70710678j]]\n",
      "[[0.70710678+0.j        ]\n",
      " [0.70710678+0.j        ]\n",
      " [0.        +0.70710678j]\n",
      " [0.        +0.70710678j]]\n"
     ]
    }
   ],
   "source": [
    "# 11.3\n",
    "\n",
    "f = np.array([[0],[1]])\n",
    "e = np.array([[1],[0]])\n",
    "g = np.array([[1/np.sqrt(2)],[1j/np.sqrt(2)]])\n",
    "\n",
    "print(np.kron(f+e,g))\n",
    "print(np.kron(f,g)+np.kron(e,g))\n",
    "\n",
    "print('------------------------------------------')\n",
    "\n",
    "print(np.kron(g,(f+e)))\n",
    "print(np.kron(g,f)+np.kron(g,e))\n"
   ]
  },
  {
   "cell_type": "code",
   "execution_count": 6,
   "metadata": {},
   "outputs": [
    {
     "name": "stdout",
     "output_type": "stream",
     "text": [
      "(1-1j)\n",
      "(1-1j)\n"
     ]
    }
   ],
   "source": [
    "# 11.5\n",
    "\n",
    "f = np.array([[1],[1]])\n",
    "e = np.array([[0],[1]])\n",
    "g = np.array([[1j],[1j]])\n",
    "k = np.array([[1j],[1]])\n",
    "\n",
    "h1 = np.kron(f,g)\n",
    "h2 = np.kron(e,k)\n",
    "\n",
    "print(np.vdot(h1,h2))\n",
    "print(np.kron(np.vdot(f,e), np.vdot(g,k)))"
   ]
  }
 ],
 "metadata": {
  "kernelspec": {
   "display_name": "venv",
   "language": "python",
   "name": "python3"
  },
  "language_info": {
   "codemirror_mode": {
    "name": "ipython",
    "version": 3
   },
   "file_extension": ".py",
   "mimetype": "text/x-python",
   "name": "python",
   "nbconvert_exporter": "python",
   "pygments_lexer": "ipython3",
   "version": "3.11.2"
  }
 },
 "nbformat": 4,
 "nbformat_minor": 2
}
