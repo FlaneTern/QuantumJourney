{
 "cells": [
  {
   "cell_type": "code",
   "execution_count": 1,
   "metadata": {},
   "outputs": [],
   "source": [
    "import numpy as np"
   ]
  },
  {
   "cell_type": "code",
   "execution_count": 3,
   "metadata": {},
   "outputs": [
    {
     "name": "stdout",
     "output_type": "stream",
     "text": [
      "2.732050807568877\n",
      "(2, 1)\n"
     ]
    }
   ],
   "source": [
    "# 3.2\n",
    "\n",
    "v1=np.array([[np.sqrt(3)],[1]])\n",
    "v2=np.array([[1],[1]])\n",
    "inner_result=np.vdot(v1,v2)\n",
    "print(inner_result)\n",
    "print (v1.shape)"
   ]
  },
  {
   "cell_type": "code",
   "execution_count": 4,
   "metadata": {},
   "outputs": [
    {
     "name": "stdout",
     "output_type": "stream",
     "text": [
      "0j\n"
     ]
    }
   ],
   "source": [
    "# 3.3\n",
    "\n",
    "v1=np.array([[1j],[1]])\n",
    "v2=np.array([[-1j],[1]])\n",
    "inner_result=np.vdot(v1,v2)\n",
    "print(inner_result)"
   ]
  },
  {
   "cell_type": "code",
   "execution_count": 5,
   "metadata": {},
   "outputs": [
    {
     "name": "stdout",
     "output_type": "stream",
     "text": [
      "-3j\n"
     ]
    }
   ],
   "source": [
    "# 3.4\n",
    "\n",
    "v1=np.array([[1+2j],[1]])\n",
    "v2=np.array([[1-1j],[1]])\n",
    "inner_result=np.vdot(v1,v2)\n",
    "print(inner_result)"
   ]
  }
 ],
 "metadata": {
  "kernelspec": {
   "display_name": "venv",
   "language": "python",
   "name": "python3"
  },
  "language_info": {
   "codemirror_mode": {
    "name": "ipython",
    "version": 3
   },
   "file_extension": ".py",
   "mimetype": "text/x-python",
   "name": "python",
   "nbconvert_exporter": "python",
   "pygments_lexer": "ipython3",
   "version": "3.11.2"
  }
 },
 "nbformat": 4,
 "nbformat_minor": 2
}
