{
 "cells": [
  {
   "cell_type": "code",
   "execution_count": 150,
   "metadata": {},
   "outputs": [
    {
     "data": {
      "image/png": "[encoded data removed]",
      "text/plain": [
       "<Figure size 454.517x284.278 with 1 Axes>"
      ]
     },
     "execution_count": 150,
     "metadata": {},
     "output_type": "execute_result"
    }
   ],
   "source": [
    "from qiskit_aer import AerSimulator\n",
    "from qiskit.circuit.library import RealAmplitudes\n",
    "from qiskit.circuit import QuantumCircuit, QuantumRegister, ClassicalRegister\n",
    "from qiskit.quantum_info import SparsePauliOp\n",
    "from qiskit.transpiler.preset_passmanagers import generate_preset_pass_manager\n",
    "from qiskit_ibm_runtime import Session, SamplerV2 as Sampler\n",
    "\n",
    "from qiskit.circuit import Parameter\n",
    "\n",
    "\n",
    "import numpy as np\n",
    "\n",
    "#service = QiskitRuntimeService()\n",
    "\n",
    "qc = QuantumCircuit(2, 2)\n",
    "#qc = QuantumCircuit(2)\n",
    "\n",
    "qc.id(0)\n",
    "qc.h(1)\n",
    "qc.cx(1, 0)\n",
    "\n",
    "qc.measure(0, 0)\n",
    "qc.measure(1, 1)\n",
    "#qc.measure_all()\n",
    "\n",
    "qc.draw(output='mpl')"
   ]
  },
  {
   "cell_type": "code",
   "execution_count": 15,
   "metadata": {},
   "outputs": [
    {
     "ename": "QiskitBackendNotFoundError",
     "evalue": "'No backend matches the criteria.'",
     "output_type": "error",
     "traceback": [
      "\u001b[0;31m---------------------------------------------------------------------------\u001b[0m",
      "\u001b[0;31mQiskitBackendNotFoundError\u001b[0m                Traceback (most recent call last)",
      "Cell \u001b[0;32mIn[15], line 5\u001b[0m\n\u001b[1;32m      3\u001b[0m isa_qc \u001b[38;5;241m=\u001b[39m pm\u001b[38;5;241m.\u001b[39mrun(qc)\n\u001b[1;32m      4\u001b[0m \u001b[38;5;28;01mwith\u001b[39;00m Session(backend\u001b[38;5;241m=\u001b[39maer_sim) \u001b[38;5;28;01mas\u001b[39;00m session:\n\u001b[0;32m----> 5\u001b[0m     sampler \u001b[38;5;241m=\u001b[39m \u001b[43mSampler\u001b[49m\u001b[43m(\u001b[49m\u001b[43m)\u001b[49m\n\u001b[1;32m      6\u001b[0m     result \u001b[38;5;241m=\u001b[39m sampler\u001b[38;5;241m.\u001b[39mrun([isa_qc])\u001b[38;5;241m.\u001b[39mresult()\n",
      "File \u001b[0;32m~/MyStuff/QuantumJourney/quantum_venv/lib/python3.11/site-packages/qiskit_ibm_runtime/sampler.py:135\u001b[0m, in \u001b[0;36mSamplerV2.__init__\u001b[0;34m(self, mode, backend, session, options)\u001b[0m\n\u001b[1;32m    133\u001b[0m \u001b[38;5;28;01mif\u001b[39;00m mode \u001b[38;5;129;01mis\u001b[39;00m \u001b[38;5;28;01mNone\u001b[39;00m:\n\u001b[1;32m    134\u001b[0m     mode \u001b[38;5;241m=\u001b[39m session \u001b[38;5;28;01mif\u001b[39;00m backend \u001b[38;5;129;01mand\u001b[39;00m session \u001b[38;5;28;01melse\u001b[39;00m backend \u001b[38;5;28;01mif\u001b[39;00m backend \u001b[38;5;28;01melse\u001b[39;00m session\n\u001b[0;32m--> 135\u001b[0m \u001b[43mBasePrimitiveV2\u001b[49m\u001b[38;5;241;43m.\u001b[39;49m\u001b[38;5;21;43m__init__\u001b[39;49m\u001b[43m(\u001b[49m\u001b[38;5;28;43mself\u001b[39;49m\u001b[43m,\u001b[49m\u001b[43m \u001b[49m\u001b[43mmode\u001b[49m\u001b[38;5;241;43m=\u001b[39;49m\u001b[43mmode\u001b[49m\u001b[43m,\u001b[49m\u001b[43m \u001b[49m\u001b[43moptions\u001b[49m\u001b[38;5;241;43m=\u001b[39;49m\u001b[43moptions\u001b[49m\u001b[43m)\u001b[49m\n",
      "File \u001b[0;32m~/MyStuff/QuantumJourney/quantum_venv/lib/python3.11/site-packages/qiskit_ibm_runtime/base_primitive.py:151\u001b[0m, in \u001b[0;36mBasePrimitiveV2.__init__\u001b[0;34m(self, mode, options)\u001b[0m\n\u001b[1;32m    130\u001b[0m \u001b[38;5;28;01mdef\u001b[39;00m \u001b[38;5;21m__init__\u001b[39m(\n\u001b[1;32m    131\u001b[0m     \u001b[38;5;28mself\u001b[39m,\n\u001b[1;32m    132\u001b[0m     mode: Optional[Union[BackendV1, BackendV2, Session, Batch, \u001b[38;5;28mstr\u001b[39m]] \u001b[38;5;241m=\u001b[39m \u001b[38;5;28;01mNone\u001b[39;00m,\n\u001b[1;32m    133\u001b[0m     options: Optional[Union[Dict, OptionsT]] \u001b[38;5;241m=\u001b[39m \u001b[38;5;28;01mNone\u001b[39;00m,\n\u001b[1;32m    134\u001b[0m ):\n\u001b[1;32m    135\u001b[0m \u001b[38;5;250m    \u001b[39m\u001b[38;5;124;03m\"\"\"Initializes the primitive.\u001b[39;00m\n\u001b[1;32m    136\u001b[0m \n\u001b[1;32m    137\u001b[0m \u001b[38;5;124;03m    Args:\u001b[39;00m\n\u001b[0;32m   (...)\u001b[0m\n\u001b[1;32m    149\u001b[0m \u001b[38;5;124;03m        ValueError: Invalid arguments are given.\u001b[39;00m\n\u001b[1;32m    150\u001b[0m \u001b[38;5;124;03m    \"\"\"\u001b[39;00m\n\u001b[0;32m--> 151\u001b[0m     \u001b[38;5;28mself\u001b[39m\u001b[38;5;241m.\u001b[39m_mode, \u001b[38;5;28mself\u001b[39m\u001b[38;5;241m.\u001b[39m_service, \u001b[38;5;28mself\u001b[39m\u001b[38;5;241m.\u001b[39m_backend \u001b[38;5;241m=\u001b[39m \u001b[43m_get_mode_service_backend\u001b[49m\u001b[43m(\u001b[49m\u001b[43mmode\u001b[49m\u001b[43m)\u001b[49m\n\u001b[1;32m    152\u001b[0m     \u001b[38;5;28mself\u001b[39m\u001b[38;5;241m.\u001b[39m_set_options(options)\n",
      "File \u001b[0;32m~/MyStuff/QuantumJourney/quantum_venv/lib/python3.11/site-packages/qiskit_ibm_runtime/base_primitive.py:118\u001b[0m, in \u001b[0;36m_get_mode_service_backend\u001b[0;34m(mode)\u001b[0m\n\u001b[1;32m    116\u001b[0m     mode \u001b[38;5;241m=\u001b[39m get_cm_session()\n\u001b[1;32m    117\u001b[0m     service \u001b[38;5;241m=\u001b[39m mode\u001b[38;5;241m.\u001b[39mservice  \u001b[38;5;66;03m# type: ignore\u001b[39;00m\n\u001b[0;32m--> 118\u001b[0m     backend \u001b[38;5;241m=\u001b[39m \u001b[43mservice\u001b[49m\u001b[38;5;241;43m.\u001b[39;49m\u001b[43mbackend\u001b[49m\u001b[43m(\u001b[49m\u001b[43mname\u001b[49m\u001b[38;5;241;43m=\u001b[39;49m\u001b[43mmode\u001b[49m\u001b[38;5;241;43m.\u001b[39;49m\u001b[43mbackend\u001b[49m\u001b[43m(\u001b[49m\u001b[43m)\u001b[49m\u001b[43m,\u001b[49m\u001b[43m \u001b[49m\u001b[43minstance\u001b[49m\u001b[38;5;241;43m=\u001b[39;49m\u001b[43mmode\u001b[49m\u001b[38;5;241;43m.\u001b[39;49m\u001b[43m_instance\u001b[49m\u001b[43m)\u001b[49m  \u001b[38;5;66;03m# type: ignore\u001b[39;00m\n\u001b[1;32m    119\u001b[0m     \u001b[38;5;28;01mreturn\u001b[39;00m mode, service, backend  \u001b[38;5;66;03m# type: ignore\u001b[39;00m\n\u001b[1;32m    120\u001b[0m \u001b[38;5;28;01melse\u001b[39;00m:\n",
      "File \u001b[0;32m~/MyStuff/QuantumJourney/quantum_venv/lib/python3.11/site-packages/qiskit_ibm_runtime/fake_provider/local_service.py:68\u001b[0m, in \u001b[0;36mQiskitRuntimeLocalService.backend\u001b[0;34m(self, name, instance)\u001b[0m\n\u001b[1;32m     57\u001b[0m \u001b[38;5;28;01mdef\u001b[39;00m \u001b[38;5;21mbackend\u001b[39m(\n\u001b[1;32m     58\u001b[0m     \u001b[38;5;28mself\u001b[39m, name: \u001b[38;5;28mstr\u001b[39m \u001b[38;5;241m=\u001b[39m \u001b[38;5;28;01mNone\u001b[39;00m, instance: \u001b[38;5;28mstr\u001b[39m \u001b[38;5;241m=\u001b[39m \u001b[38;5;28;01mNone\u001b[39;00m  \u001b[38;5;66;03m# pylint: disable=unused-argument\u001b[39;00m\n\u001b[1;32m     59\u001b[0m ) \u001b[38;5;241m-\u001b[39m\u001b[38;5;241m>\u001b[39m FakeBackendV2:\n\u001b[1;32m     60\u001b[0m \u001b[38;5;250m    \u001b[39m\u001b[38;5;124;03m\"\"\"Return a single fake backend matching the specified filters.\u001b[39;00m\n\u001b[1;32m     61\u001b[0m \n\u001b[1;32m     62\u001b[0m \u001b[38;5;124;03m    Args:\u001b[39;00m\n\u001b[0;32m   (...)\u001b[0m\n\u001b[1;32m     66\u001b[0m \u001b[38;5;124;03m        Backend: A backend matching the filtering.\u001b[39;00m\n\u001b[1;32m     67\u001b[0m \u001b[38;5;124;03m    \"\"\"\u001b[39;00m\n\u001b[0;32m---> 68\u001b[0m     \u001b[38;5;28;01mreturn\u001b[39;00m \u001b[38;5;28;43mself\u001b[39;49m\u001b[38;5;241;43m.\u001b[39;49m\u001b[43mbackends\u001b[49m\u001b[43m(\u001b[49m\u001b[43mname\u001b[49m\u001b[38;5;241;43m=\u001b[39;49m\u001b[43mname\u001b[49m\u001b[43m)\u001b[49m[\u001b[38;5;241m0\u001b[39m]\n",
      "File \u001b[0;32m~/MyStuff/QuantumJourney/quantum_venv/lib/python3.11/site-packages/qiskit_ibm_runtime/fake_provider/local_service.py:111\u001b[0m, in \u001b[0;36mQiskitRuntimeLocalService.backends\u001b[0;34m(self, name, min_num_qubits, dynamic_circuits, filters)\u001b[0m\n\u001b[1;32m    109\u001b[0m             \u001b[38;5;28;01mbreak\u001b[39;00m\n\u001b[1;32m    110\u001b[0m     \u001b[38;5;28;01melse\u001b[39;00m:\n\u001b[0;32m--> 111\u001b[0m         \u001b[38;5;28;01mraise\u001b[39;00m err\n\u001b[1;32m    113\u001b[0m \u001b[38;5;28;01mif\u001b[39;00m min_num_qubits:\n\u001b[1;32m    114\u001b[0m     backends \u001b[38;5;241m=\u001b[39m [b \u001b[38;5;28;01mfor\u001b[39;00m b \u001b[38;5;129;01min\u001b[39;00m backends \u001b[38;5;28;01mif\u001b[39;00m b\u001b[38;5;241m.\u001b[39mnum_qubits \u001b[38;5;241m>\u001b[39m\u001b[38;5;241m=\u001b[39m min_num_qubits]\n",
      "\u001b[0;31mQiskitBackendNotFoundError\u001b[0m: 'No backend matches the criteria.'"
     ]
    }
   ],
   "source": [
    "aer_sim = AerSimulator()\n",
    "pm = generate_preset_pass_manager(backend=aer_sim, optimization_level=1)\n",
    "isa_qc = pm.run(qc)\n",
    "with Session(backend=aer_sim) as session:\n",
    "    sampler = Sampler()\n",
    "    result = sampler.run([isa_qc]).result()"
   ]
  },
  {
   "cell_type": "code",
   "execution_count": 63,
   "metadata": {},
   "outputs": [
    {
     "data": {
      "image/png": "[encoded data removed]",
      "text/plain": [
       "<Figure size 370.906x200.667 with 1 Axes>"
      ]
     },
     "execution_count": 63,
     "metadata": {},
     "output_type": "execute_result"
    }
   ],
   "source": [
    "qc = QuantumCircuit(2)\n",
    "qc.ry(0, 0)\n",
    "qc.h(0)\n",
    "qc.cx(0,1)\n",
    "qc.draw(\"mpl\", style=\"iqp\")"
   ]
  },
  {
   "cell_type": "code",
   "execution_count": 133,
   "metadata": {},
   "outputs": [],
   "source": [
    "observable = SparsePauliOp([\"ZZ\"], coeffs=[1])\n",
    "parameter_values = [[0], [np.pi/6], [np.pi/2]]\n",
    "\n",
    "aer_sim = AerSimulator()\n",
    "pm = generate_preset_pass_manager(backend=aer_sim, optimization_level=1)\n",
    "isa_qc = pm.run(qc)\n",
    "\n",
    "isa_observable = observable.apply_layout(isa_qc.layout)\n",
    "\n"
   ]
  },
  {
   "cell_type": "code",
   "execution_count": 134,
   "metadata": {},
   "outputs": [],
   "source": [
    "from qiskit.primitives import StatevectorEstimator\n",
    "estimator = StatevectorEstimator()"
   ]
  },
  {
   "cell_type": "code",
   "execution_count": 135,
   "metadata": {},
   "outputs": [
    {
     "name": "stdout",
     "output_type": "stream",
     "text": [
      " > Result class: <class 'qiskit.primitives.containers.primitive_result.PrimitiveResult'>\n"
     ]
    }
   ],
   "source": [
    "\n",
    "#job = estimator.run([(isa_qc, isa_observable, parameter_values)])\n",
    "job = estimator.run([(isa_qc, isa_observable)])\n",
    "#job = estimator.run([isa_qc])\n",
    "result = job.result()\n",
    "print(f\" > Result class: {type(result)}\")"
   ]
  },
  {
   "cell_type": "code",
   "execution_count": 136,
   "metadata": {},
   "outputs": [
    {
     "name": "stdout",
     "output_type": "stream",
     "text": [
      " > Expectation value: 0.9999999999999998\n",
      " > Metadata: {'precision': 0.0}\n"
     ]
    }
   ],
   "source": [
    "print(f\" > Expectation value: {result[0].data.evs}\")\n",
    "print(f\" > Metadata: {result[0].metadata}\")"
   ]
  },
  {
   "cell_type": "code",
   "execution_count": 143,
   "metadata": {},
   "outputs": [
    {
     "name": "stdout",
     "output_type": "stream",
     "text": [
      " > Expectation value: 0.0\n"
     ]
    }
   ],
   "source": [
    "print(f\" > Expectation value: {result[0].data.stds}\")"
   ]
  },
  {
   "cell_type": "code",
   "execution_count": 120,
   "metadata": {},
   "outputs": [
    {
     "ename": "AttributeError",
     "evalue": "'PrimitiveResult' object has no attribute 'get'",
     "output_type": "error",
     "traceback": [
      "\u001b[0;31m---------------------------------------------------------------------------\u001b[0m",
      "\u001b[0;31mAttributeError\u001b[0m                            Traceback (most recent call last)",
      "Cell \u001b[0;32mIn[120], line 1\u001b[0m\n\u001b[0;32m----> 1\u001b[0m \u001b[43mresult\u001b[49m\u001b[38;5;241;43m.\u001b[39;49m\u001b[43mget\u001b[49m\n",
      "\u001b[0;31mAttributeError\u001b[0m: 'PrimitiveResult' object has no attribute 'get'"
     ]
    }
   ],
   "source": [
    "result.get"
   ]
  },
  {
   "cell_type": "code",
   "execution_count": 146,
   "metadata": {},
   "outputs": [
    {
     "ename": "ImportError",
     "evalue": "cannot import name 'execute' from 'qiskit' (/home/santana/MyStuff/QuantumJourney/quantum_venv/lib/python3.11/site-packages/qiskit/__init__.py)",
     "output_type": "error",
     "traceback": [
      "\u001b[0;31m---------------------------------------------------------------------------\u001b[0m",
      "\u001b[0;31mImportError\u001b[0m                               Traceback (most recent call last)",
      "Cell \u001b[0;32mIn[146], line 1\u001b[0m\n\u001b[0;32m----> 1\u001b[0m \u001b[38;5;28;01mfrom\u001b[39;00m \u001b[38;5;21;01mqiskit\u001b[39;00m \u001b[38;5;28;01mimport\u001b[39;00m execute, QuantumCircuit\n\u001b[1;32m      2\u001b[0m \u001b[38;5;28;01mfrom\u001b[39;00m \u001b[38;5;21;01mqiskit_aer\u001b[39;00m \u001b[38;5;28;01mimport\u001b[39;00m Aer\n\u001b[1;32m      3\u001b[0m \u001b[38;5;28;01mfrom\u001b[39;00m \u001b[38;5;21;01mqiskit\u001b[39;00m\u001b[38;5;21;01m.\u001b[39;00m\u001b[38;5;21;01mproviders\u001b[39;00m\u001b[38;5;21;01m.\u001b[39;00m\u001b[38;5;21;01maer\u001b[39;00m \u001b[38;5;28;01mimport\u001b[39;00m QasmSimulator\n",
      "\u001b[0;31mImportError\u001b[0m: cannot import name 'execute' from 'qiskit' (/home/santana/MyStuff/QuantumJourney/quantum_venv/lib/python3.11/site-packages/qiskit/__init__.py)"
     ]
    }
   ],
   "source": [
    "from qiskit import execute, QuantumCircuit\n",
    "from qiskit_aer import Aer\n",
    "from qiskit.providers.aer import QasmSimulator\n",
    "from qiskit.providers.aer.noise import NoiseModel\n",
    "\n",
    "# Create a quantum circuit\n",
    "qc = QuantumCircuit(2, 2)\n",
    "qc.h(0)\n",
    "qc.cx(0, 1)\n",
    "qc.measure([0, 1], [0, 1])\n",
    "\n",
    "# Execute the circuit on a simulator backend\n",
    "backend = Aer.get_backend('qasm_simulator')\n",
    "job = execute(qc, backend, shots=1024)\n",
    "result = job.result()\n",
    "\n",
    "# Access the expectation values of the first experiment\n",
    "evs = result.data(0).get('evs')\n",
    "\n",
    "print(evs)\n"
   ]
  },
  {
   "cell_type": "code",
   "execution_count": 145,
   "metadata": {},
   "outputs": [
    {
     "ename": "AttributeError",
     "evalue": "'PrimitiveResult' object has no attribute 'get_counts'",
     "output_type": "error",
     "traceback": [
      "\u001b[0;31m---------------------------------------------------------------------------\u001b[0m",
      "\u001b[0;31mAttributeError\u001b[0m                            Traceback (most recent call last)",
      "Cell \u001b[0;32mIn[145], line 1\u001b[0m\n\u001b[0;32m----> 1\u001b[0m counts \u001b[38;5;241m=\u001b[39m \u001b[43mresult\u001b[49m\u001b[38;5;241;43m.\u001b[39;49m\u001b[43mget_counts\u001b[49m(qc)\n",
      "\u001b[0;31mAttributeError\u001b[0m: 'PrimitiveResult' object has no attribute 'get_counts'"
     ]
    }
   ],
   "source": [
    "counts = result.get_counts(qc)"
   ]
  },
  {
   "cell_type": "code",
   "execution_count": 153,
   "metadata": {},
   "outputs": [
    {
     "name": "stdout",
     "output_type": "stream",
     "text": [
      "{'00': 495, '11': 529}\n",
      "{'11': 520, '00': 504}\n",
      "{'00': 513, '11': 511}\n",
      "{'11': 487, '00': 537}\n",
      "{'00': 536, '11': 488}\n",
      "{'00': 511, '11': 513}\n",
      "{'11': 511, '00': 513}\n",
      "{'11': 486, '00': 538}\n",
      "{'00': 531, '11': 493}\n",
      "{'11': 514, '00': 510}\n",
      "{'11': 566, '00': 458}\n",
      "{'00': 528, '11': 496}\n",
      "{'00': 529, '11': 495}\n",
      "{'00': 506, '11': 518}\n",
      "{'11': 536, '00': 488}\n",
      "{'11': 518, '00': 506}\n",
      "{'00': 514, '11': 510}\n",
      "{'00': 512, '11': 512}\n",
      "{'11': 518, '00': 506}\n",
      "{'00': 526, '11': 498}\n",
      "{'00': 521, '11': 503}\n",
      "{'00': 485, '11': 539}\n",
      "{'11': 522, '00': 502}\n",
      "{'11': 501, '00': 523}\n",
      "{'11': 511, '00': 513}\n",
      "{'11': 510, '00': 514}\n",
      "{'11': 546, '00': 478}\n",
      "{'00': 525, '11': 499}\n",
      "{'11': 511, '00': 513}\n",
      "{'11': 514, '00': 510}\n",
      "{'11': 503, '00': 521}\n",
      "{'11': 509, '00': 515}\n",
      "{'00': 497, '11': 527}\n",
      "{'00': 530, '11': 494}\n",
      "{'11': 517, '00': 507}\n",
      "{'00': 535, '11': 489}\n",
      "{'00': 493, '11': 531}\n",
      "{'11': 499, '00': 525}\n",
      "{'00': 506, '11': 518}\n",
      "{'00': 512, '11': 512}\n",
      "{'11': 525, '00': 499}\n",
      "{'11': 525, '00': 499}\n",
      "{'00': 479, '11': 545}\n",
      "{'00': 510, '11': 514}\n",
      "{'00': 504, '11': 520}\n",
      "{'00': 517, '11': 507}\n",
      "{'11': 526, '00': 498}\n",
      "{'00': 528, '11': 496}\n",
      "{'00': 517, '11': 507}\n",
      "{'11': 509, '00': 515}\n",
      "{'11': 540, '00': 484}\n",
      "{'00': 520, '11': 504}\n",
      "{'11': 515, '00': 509}\n",
      "{'11': 546, '00': 478}\n",
      "{'00': 523, '11': 501}\n",
      "{'11': 499, '00': 525}\n",
      "{'00': 510, '11': 514}\n",
      "{'11': 489, '00': 535}\n",
      "{'00': 512, '11': 512}\n",
      "{'11': 494, '00': 530}\n",
      "{'00': 494, '11': 530}\n",
      "{'00': 480, '11': 544}\n",
      "{'11': 506, '00': 518}\n",
      "{'11': 498, '00': 526}\n",
      "{'00': 518, '11': 506}\n",
      "{'00': 486, '11': 538}\n",
      "{'00': 515, '11': 509}\n",
      "{'00': 479, '11': 545}\n",
      "{'00': 517, '11': 507}\n",
      "{'11': 517, '00': 507}\n",
      "{'11': 495, '00': 529}\n",
      "{'00': 513, '11': 511}\n",
      "{'00': 518, '11': 506}\n",
      "{'00': 504, '11': 520}\n",
      "{'00': 519, '11': 505}\n",
      "{'11': 536, '00': 488}\n",
      "{'00': 519, '11': 505}\n",
      "{'11': 514, '00': 510}\n",
      "{'00': 521, '11': 503}\n",
      "{'11': 504, '00': 520}\n",
      "{'00': 467, '11': 557}\n",
      "{'00': 504, '11': 520}\n",
      "{'00': 514, '11': 510}\n",
      "{'11': 524, '00': 500}\n",
      "{'11': 516, '00': 508}\n",
      "{'11': 522, '00': 502}\n",
      "{'00': 503, '11': 521}\n",
      "{'11': 522, '00': 502}\n",
      "{'00': 489, '11': 535}\n",
      "{'00': 507, '11': 517}\n",
      "{'11': 477, '00': 547}\n",
      "{'00': 514, '11': 510}\n",
      "{'11': 497, '00': 527}\n",
      "{'11': 519, '00': 505}\n",
      "{'00': 515, '11': 509}\n",
      "{'11': 510, '00': 514}\n",
      "{'11': 505, '00': 519}\n",
      "{'00': 505, '11': 519}\n",
      "{'00': 485, '11': 539}\n",
      "{'11': 513, '00': 511}\n"
     ]
    }
   ],
   "source": [
    "\n",
    "\n",
    "# Import section\n",
    "from qiskit_aer import AerSimulator\n",
    "from qiskit.compiler import transpile\n",
    "\n",
    "# For execution\n",
    "simulator = AerSimulator()\n",
    "compiled_circuit = transpile(qc, simulator)\n",
    "for i in range(100):\n",
    "    sim_result = simulator.run(compiled_circuit).result()\n",
    "    counts = sim_result.get_counts()\n",
    "    print(counts)"
   ]
  },
  {
   "cell_type": "code",
   "execution_count": 152,
   "metadata": {},
   "outputs": [
    {
     "name": "stdout",
     "output_type": "stream",
     "text": [
      "{'11': 501, '00': 523}\n"
     ]
    }
   ],
   "source": []
  },
  {
   "cell_type": "code",
   "execution_count": null,
   "metadata": {},
   "outputs": [],
   "source": []
  }
 ],
 "metadata": {
  "kernelspec": {
   "display_name": "quantum_venv",
   "language": "python",
   "name": "python3"
  },
  "language_info": {
   "codemirror_mode": {
    "name": "ipython",
    "version": 3
   },
   "file_extension": ".py",
   "mimetype": "text/x-python",
   "name": "python",
   "nbconvert_exporter": "python",
   "pygments_lexer": "ipython3",
   "version": "3.11.2"
  }
 },
 "nbformat": 4,
 "nbformat_minor": 2
}
