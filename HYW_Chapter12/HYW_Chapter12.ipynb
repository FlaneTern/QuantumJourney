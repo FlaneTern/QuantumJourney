{
 "cells": [
  {
   "cell_type": "code",
   "execution_count": 4,
   "metadata": {},
   "outputs": [],
   "source": [
    "import numpy as np"
   ]
  },
  {
   "cell_type": "code",
   "execution_count": 5,
   "metadata": {},
   "outputs": [
    {
     "name": "stdout",
     "output_type": "stream",
     "text": [
      "f = \n",
      " [[0]\n",
      " [1]] \n",
      "\n",
      "g = \n",
      " [[0.70710678+0.j        ]\n",
      " [0.        +0.70710678j]] \n",
      "\n",
      "sigmax = \n",
      " [[0 1]\n",
      " [1 0]] \n",
      "\n"
     ]
    }
   ],
   "source": [
    "f = np.array([[0],[1]])\n",
    "g = np.array([[1/np.sqrt(2)],[1j/np.sqrt(2)]])\n",
    "\n",
    "sigmax = np.array([[0, 1], [1, 0]])\n",
    "\n",
    "print('f = \\n', f, '\\n')\n",
    "print('g = \\n', g, '\\n')\n",
    "print('sigmax = \\n', sigmax ,'\\n')"
   ]
  },
  {
   "cell_type": "code",
   "execution_count": 6,
   "metadata": {},
   "outputs": [
    {
     "name": "stdout",
     "output_type": "stream",
     "text": [
      "np.matmul(sigmax,f) = \n",
      " [[1]\n",
      " [0]] \n",
      "\n",
      "np.matmul(sigmax,g) = \n",
      " [[0.        +0.70710678j]\n",
      " [0.70710678+0.j        ]] \n",
      "\n",
      "np.kron(np.matmul(sigmax,f), np.matmul(sigmax,g)) = \n",
      " [[0.        +0.70710678j]\n",
      " [0.70710678+0.j        ]\n",
      " [0.        +0.j        ]\n",
      " [0.        +0.j        ]] \n",
      "\n"
     ]
    }
   ],
   "source": [
    "print('np.matmul(sigmax,f) = \\n', np.matmul(sigmax,f) ,'\\n')\n",
    "print('np.matmul(sigmax,g) = \\n', np.matmul(sigmax,g) ,'\\n')\n",
    "print('np.kron(np.matmul(sigmax,f), np.matmul(sigmax,g)) = \\n', np.kron(np.matmul(sigmax,f), np.matmul(sigmax,g)) ,'\\n')"
   ]
  },
  {
   "cell_type": "code",
   "execution_count": 7,
   "metadata": {},
   "outputs": [
    {
     "name": "stdout",
     "output_type": "stream",
     "text": [
      "np.kron(sigmax, sigmax) = \n",
      " [[0 0 0 1]\n",
      " [0 0 1 0]\n",
      " [0 1 0 0]\n",
      " [1 0 0 0]] \n",
      "\n",
      "np.kron(f,g) = \n",
      " [[0.        +0.j        ]\n",
      " [0.        +0.j        ]\n",
      " [0.70710678+0.j        ]\n",
      " [0.        +0.70710678j]] \n",
      "\n",
      "np.matmul(np.kron(sigmax, sigmax), np.kron(f,g)) = \n",
      " [[0.        +0.70710678j]\n",
      " [0.70710678+0.j        ]\n",
      " [0.        +0.j        ]\n",
      " [0.        +0.j        ]] \n",
      "\n"
     ]
    }
   ],
   "source": [
    "print('np.kron(sigmax, sigmax) = \\n', np.kron(sigmax, sigmax) ,'\\n')\n",
    "print('np.kron(f,g) = \\n', np.kron(f,g) ,'\\n')\n",
    "print('np.matmul(np.kron(sigmax, sigmax), np.kron(f,g)) = \\n', np.matmul(np.kron(sigmax, sigmax), np.kron(f,g)) ,'\\n')"
   ]
  }
 ],
 "metadata": {
  "kernelspec": {
   "display_name": "venv",
   "language": "python",
   "name": "python3"
  },
  "language_info": {
   "codemirror_mode": {
    "name": "ipython",
    "version": 3
   },
   "file_extension": ".py",
   "mimetype": "text/x-python",
   "name": "python",
   "nbconvert_exporter": "python",
   "pygments_lexer": "ipython3",
   "version": "3.11.2"
  }
 },
 "nbformat": 4,
 "nbformat_minor": 2
}
